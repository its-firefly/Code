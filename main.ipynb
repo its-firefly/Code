{
 "cells": [
  {
   "cell_type": "code",
   "execution_count": null,
   "metadata": {},
   "outputs": [],
   "source": [
    "import numpy as np\n",
    "from scipy.integrate import odeint\n",
    "from scipy.optimize import fsolve\n",
    "import matplotlib.pyplot as plt"
   ]
  },
  {
   "attachments": {},
   "cell_type": "markdown",
   "metadata": {},
   "source": [
    "Assumptions:\n",
    "\n",
    "1. Perfect thermal contact between the boundaries (i.e, the temperature at the mating surfaces are equal)\n",
    "2. The temperature gradient in the polypropylene glass is assumed to be constant due to negligible thickness, i.e lumped capacitance analysis can be used in this case\n",
    "3. "
   ]
  },
  {
   "cell_type": "code",
   "execution_count": null,
   "metadata": {},
   "outputs": [],
   "source": [
    "def volume(r1,r2):\n",
    "    return abs((4/3)*np.pi*(pow(r2/2,3) - pow(r1/2,3)))\n",
    "\n",
    "def surfArea(r):\n",
    "    return 4*np.pi*pow(r,2)\n",
    "\n",
    "def diffusivity(k,rho,cp):\n",
    "    return k/(rho*cp)"
   ]
  },
  {
   "cell_type": "code",
   "execution_count": null,
   "metadata": {},
   "outputs": [],
   "source": [
    "# Given parameters (_t thickness m) (_k conductivity W/mK) (_c sp. heat capacity at const pressure KJ/kg) (_lh latent heat KJ/kg) (_rho density kg/m^3)\n",
    "\n",
    "# Outer Insulation\n",
    "minWool_t = 50e-3\n",
    "minWool_k = 34e-3\n",
    "minWool_rho = 160\n",
    "minWool_cp = 1030\n",
    "minWool_tempInit = 16\n",
    "\n",
    "# PolyPropylene \n",
    "PP_t = 3.5e-3\n",
    "PP_k = 34e-3\n",
    "PP_rho = 905\n",
    "PP_c = 1920\n",
    "\n",
    "# Dry Ice\n",
    "co2_t = 30e-3\n",
    "co2_k = 16e-3\n",
    "co2_cp = 0.658\n",
    "co2_rho = 1.795\n",
    "co2_tempInit = \n",
    "\n",
    "# PCM\n",
    "PCM_cp_liq = 3.40\n",
    "PCM_cp_sol = 1.87\n",
    "PCM_k_liq = 0.53\n",
    "PCM_k_sol = 5.26\n",
    "PCM_lh = 327\n",
    "PCM_rho = 1043 \n",
    "\n",
    "# Outside/ Ambient parameters\n",
    "\n",
    "amb_h = 5 #w/m2K\n",
    "amb_temp = 25 #c"
   ]
  },
  {
   "cell_type": "code",
   "execution_count": null,
   "metadata": {},
   "outputs": [],
   "source": [
    "minWool_Diff = diffusivity(minWool_k,minWool_rho,minWool_cp)\n",
    "co2_diff = diffusivity(co2_k,co2_rho,co2_cp)\n",
    "PP_diff = diffusivity(PP_k, PP_rho, PP_c)\n",
    "\n"
   ]
  },
  {
   "cell_type": "code",
   "execution_count": null,
   "metadata": {},
   "outputs": [],
   "source": [
    "biot_minWool = amb_h*minWool_t/minWool_k\n",
    "biot_co2 = "
   ]
  },
  {
   "cell_type": "code",
   "execution_count": null,
   "metadata": {},
   "outputs": [],
   "source": [
    "def eigenVal(y):\n",
    "    return y*np.tan(y) - biot_minWool\n",
    "\n",
    "val = [] \n",
    "for n in range(1,50): val.append(fsolve(eigenVal,n))\n",
    "\n",
    "roots = np.concatenate(val, axis=0) #to flatten the the list of ndarrays into normal list \n",
    "roundedRoots = np.around(roots, decimals=4) #the datatype of the list is float64, thus to get unique roots, they are rounded to 4 decimal points\n",
    "uniqueRoots = np.unique(roundedRoots) # from the list of rounded roots the unique ones are separated as the fsolve takes a parameter which is the closest assumed root\n"
   ]
  },
  {
   "attachments": {},
   "cell_type": "markdown",
   "metadata": {},
   "source": [
    "for explicit method the stability criterion is given by $Fo \\leq \\frac{1}{2}$ \n",
    "and $ Fo $ is written as a dimensionless time constant as\n",
    "\n",
    " $ Fo = \\frac{\\alpha \\cdot \\Delta t}{L^2}$ thus finding the suitable time steps to meet the stability criterion and the $ \\Delta x $ (distance between the nodes) is taken at 10mm\n"
   ]
  },
  {
   "cell_type": "code",
   "execution_count": null,
   "metadata": {},
   "outputs": [],
   "source": [
    "# fo = 1/2\n",
    "# nodalDist = 10e-3\n",
    "# timeStep = fo * (nodalDist**2) / minWool_Diff\n",
    "# q_outerFlux = amb_h/(abs(minWool_tempInit - amb_temp))\n",
    "# bi = amb_h * nodalDist / minWool_k\n"
   ]
  },
  {
   "cell_type": "code",
   "execution_count": 19,
   "metadata": {},
   "outputs": [],
   "source": [
    "CN = []\n",
    "for n in range(0,11):\n",
    "    CN.append((4*np.sin(uniqueRoots[n])) / ((2*uniqueRoots[n]) + np.sin(2*uniqueRoots[n])))\n"
   ]
  },
  {
   "attachments": {},
   "cell_type": "markdown",
   "metadata": {},
   "source": [
    "$ \\theta^* = \\sum_{n = 1}^{\\infty} C_{n} exp(- \\zeta_{n}^2 Fo) cos(\\zeta_{n}x^*)$ \n",
    "\n",
    "$ \\theta ^* = \\frac{T - T_{\\infty}}{T_{i} - T_{\\infty}} $\n",
    "\n",
    "$ x^* = \\frac{x}{L} $\n",
    "\n",
    "$ Fo = \\frac{\\alpha \\cdot t}{L^2} $ \n",
    "\n",
    "$ T_{(x,t)} = [(T_i - T_\\infty) \\cdot \\sum_{n = 1}^{\\infty} C_{n} exp(- \\zeta_{n}^2 Fo) cos(\\zeta_{n}x^*)] + T_\\infty ] $"
   ]
  },
  {
   "cell_type": "code",
   "execution_count": 52,
   "metadata": {},
   "outputs": [],
   "source": [
    "def tAtXandT(t1, tInf, cn, z, a, t, l):\n",
    "    xS = 1    \n",
    "    fo =  a * t / l\n",
    "    value = ((t1 - tInf) * cn * np.exp(-z**2 * fo) * np.cos(z*xS)) + tInf\n",
    "    \n",
    "    return value\n",
    "\n",
    "    "
   ]
  },
  {
   "cell_type": "code",
   "execution_count": 38,
   "metadata": {},
   "outputs": [],
   "source": [
    "minWoolTvst = []\n",
    "co2Tvst= []\n",
    "for t in range(1,129600):\n",
    "    x = tAtXandT(minWool_tempInit, amb_temp, CN[1], uniqueRoots[1], minWool_Diff, t, minWool_t)\n",
    "    # y = tAtXandT(co2_tempInit, x, )\n",
    "    \n",
    "    \n",
    "    minWoolTvst.append(x)"
   ]
  },
  {
   "cell_type": "code",
   "execution_count": 65,
   "metadata": {},
   "outputs": [
    {
     "data": {
      "text/plain": [
       "23.069638933173046"
      ]
     },
     "execution_count": 65,
     "metadata": {},
     "output_type": "execute_result"
    }
   ],
   "source": [
    "tAtXandT(minWool_tempInit, amb_temp, CN[0], uniqueRoots[0], minWool_Diff, 10000, minWool_t)\n"
   ]
  },
  {
   "cell_type": "code",
   "execution_count": 40,
   "metadata": {},
   "outputs": [
    {
     "data": {
      "text/plain": [
       "[<matplotlib.lines.Line2D at 0x22dc0870d00>]"
      ]
     },
     "execution_count": 40,
     "metadata": {},
     "output_type": "execute_result"
    },
    {
     "data": {
      "image/png": "[encoded data removed]",
      "text/plain": [
       "<Figure size 640x480 with 1 Axes>"
      ]
     },
     "metadata": {},
     "output_type": "display_data"
    }
   ],
   "source": [
    "plt.plot(minWoolTvst)"
   ]
  },
  {
   "cell_type": "code",
   "execution_count": 46,
   "metadata": {},
   "outputs": [
    {
     "data": {
      "text/plain": [
       "8.252427184466018e-05"
      ]
     },
     "execution_count": 46,
     "metadata": {},
     "output_type": "execute_result"
    }
   ],
   "source": [
    "minWool_Diff/minWool_t**2"
   ]
  },
  {
   "cell_type": "code",
   "execution_count": 61,
   "metadata": {},
   "outputs": [
    {
     "data": {
      "text/plain": [
       "0.9998418274981644"
      ]
     },
     "execution_count": 61,
     "metadata": {},
     "output_type": "execute_result"
    }
   ],
   "source": [
    "np.exp(-1.3847**2 * 8.25*10**-5) \n"
   ]
  },
  {
   "cell_type": "code",
   "execution_count": 57,
   "metadata": {},
   "outputs": [
    {
     "data": {
      "text/plain": [
       "1.3847"
      ]
     },
     "execution_count": 57,
     "metadata": {},
     "output_type": "execute_result"
    }
   ],
   "source": [
    "uniqueRoots[0]"
   ]
  },
  {
   "cell_type": "code",
   "execution_count": 60,
   "metadata": {},
   "outputs": [
    {
     "data": {
      "text/plain": [
       "0.1850240421157694"
      ]
     },
     "execution_count": 60,
     "metadata": {},
     "output_type": "execute_result"
    }
   ],
   "source": [
    "np.cos(1.3847)"
   ]
  }
 ],
 "metadata": {
  "kernelspec": {
   "display_name": "numerical",
   "language": "python",
   "name": "python3"
  },
  "language_info": {
   "codemirror_mode": {
    "name": "ipython",
    "version": 3
   },
   "file_extension": ".py",
   "mimetype": "text/x-python",
   "name": "python",
   "nbconvert_exporter": "python",
   "pygments_lexer": "ipython3",
   "version": "3.10.8"
  },
  "orig_nbformat": 4,
  "vscode": {
   "interpreter": {
    "hash": "ea872499c1cf716f177ab62ec6ef50b8f70bb2f61619287e9d2f92be311e3e23"
   }
  }
 },
 "nbformat": 4,
 "nbformat_minor": 2
}
