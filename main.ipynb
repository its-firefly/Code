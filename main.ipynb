{
 "cells": [
  {
   "cell_type": "code",
   "execution_count": 1,
   "metadata": {},
   "outputs": [],
   "source": [
    "import numpy as np\n",
    "import scipy as sp\n",
    "from scipy.integrate import odeint\n",
    "from scipy.optimize import fsolve\n",
    "import matplotlib.pyplot as plt"
   ]
  },
  {
   "attachments": {},
   "cell_type": "markdown",
   "metadata": {},
   "source": [
    "Assumptions:\n",
    "\n",
    "1. Perfect thermal contact between the boundaries (i.e, the temperature at the mating surfaces are equal)\n",
    "2. The temperature gradient in the polypropylene glass is assumed to be constant due to negligible thickness, i.e lumped capacitance analysis can be used in this case\n",
    "3. "
   ]
  },
  {
   "cell_type": "code",
   "execution_count": 2,
   "metadata": {},
   "outputs": [],
   "source": [
    "def volume(r1,r2):\n",
    "    return abs((4/3)*np.pi*(pow(r2/2,3) - pow(r1/2,3)))\n",
    "\n",
    "def surfArea(r):\n",
    "    return 4*np.pi*pow(r,2)\n",
    "\n",
    "def diffusivity(k,rho,cp):\n",
    "    return k/(rho*cp)"
   ]
  },
  {
   "cell_type": "code",
   "execution_count": 3,
   "metadata": {},
   "outputs": [],
   "source": [
    "# Given parameters (_t thickness m) (_k conductivity W/mK) (_c sp. heat capacity at const pressure KJ/kg) (_lh latent heat KJ/kg) (_rho density kg/m^3)\n",
    "\n",
    "# Outer Insulation\n",
    "minWool_t = 50e-3\n",
    "minWool_k = 34e-3\n",
    "minWool_rho = 160\n",
    "minWool_cp = 1030\n",
    "minWool_tempInit = 16\n",
    "\n",
    "# PolyPropylene \n",
    "PP_t = 3.5e-3\n",
    "PP_k = 34e-3\n",
    "PP_rho = 905\n",
    "PP_c = 1920\n",
    "\n",
    "# Dry Ice\n",
    "co2_t = 30e-3\n",
    "co2_k = 16e-3\n",
    "co2_cp = 0.658\n",
    "co2_rho = 1.795\n",
    "\n",
    "# PCM\n",
    "PCM_cp_liq = 3.40\n",
    "PCM_cp_sol = 1.87\n",
    "PCM_k_liq = 0.53\n",
    "PCM_k_sol = 5.26\n",
    "PCM_lh = 327\n",
    "PCM_rho = 1043 \n",
    "\n",
    "# Outside/ Ambient parameters\n",
    "\n",
    "amb_h = 5 #w/m2K\n",
    "amb_temp = 25 #c"
   ]
  },
  {
   "cell_type": "code",
   "execution_count": 4,
   "metadata": {},
   "outputs": [],
   "source": [
    "minWool_Diff = diffusivity(minWool_k,minWool_rho,minWool_cp)\n",
    "co2_diff = diffusivity(co2_k,co2_rho,co2_cp)\n",
    "PP_diff = diffusivity(PP_k, PP_rho, PP_c)"
   ]
  },
  {
   "cell_type": "code",
   "execution_count": 5,
   "metadata": {},
   "outputs": [],
   "source": [
    "biot_minWool = amb_h*minWool_t/minWool_k"
   ]
  },
  {
   "cell_type": "code",
   "execution_count": 6,
   "metadata": {},
   "outputs": [],
   "source": [
    "def eigenVal(y):\n",
    "    return y*np.tan(y) - biot_minWool\n",
    "\n",
    "val = [] \n",
    "for n in range(1,50): val.append(fsolve(eigenVal,n))\n",
    "\n",
    "roots = np.concatenate(val, axis=0)\n",
    "roundedRoots = np.around(roots, decimals=4)\n",
    "uniqueRoots = np.unique(roundedRoots)\n"
   ]
  },
  {
   "attachments": {},
   "cell_type": "markdown",
   "metadata": {},
   "source": [
    "for explicit method the stability criterion is given by $Fo \\leq \\frac{1}{2}$ \n",
    "and $ Fo $ is written as a dimensionless time constant as\n",
    "\n",
    " $ Fo = \\frac{\\alpha \\cdot \\Delta t}{L^2}$ thus finding the suitable time steps to meet the stability criterion and the $ \\Delta x $ (distance between the nodes) is taken at 10mm\n"
   ]
  },
  {
   "cell_type": "code",
   "execution_count": 7,
   "metadata": {},
   "outputs": [],
   "source": [
    "fo = 1/2\n",
    "nodalDist = 10e-3\n",
    "timeStep = fo * (nodalDist**2) / minWool_Diff\n",
    "q_outerFlux = amb_h/(abs(minWool_tempInit - amb_temp))\n",
    "bi = amb_h * nodalDist / minWool_k\n"
   ]
  },
  {
   "cell_type": "code",
   "execution_count": 12,
   "metadata": {},
   "outputs": [],
   "source": [
    "CN = []\n",
    "for n in range(0,3):\n",
    "    CN.append((4*np.sin(uniqueRoots[n])) / ((2*uniqueRoots[n]) + np.sin(2*uniqueRoots[n])))\n"
   ]
  },
  {
   "cell_type": "code",
   "execution_count": null,
   "metadata": {},
   "outputs": [],
   "source": []
  }
 ],
 "metadata": {
  "kernelspec": {
   "display_name": "numerical",
   "language": "python",
   "name": "python3"
  },
  "language_info": {
   "codemirror_mode": {
    "name": "ipython",
    "version": 3
   },
   "file_extension": ".py",
   "mimetype": "text/x-python",
   "name": "python",
   "nbconvert_exporter": "python",
   "pygments_lexer": "ipython3",
   "version": "3.10.8"
  },
  "orig_nbformat": 4,
  "vscode": {
   "interpreter": {
    "hash": "ea872499c1cf716f177ab62ec6ef50b8f70bb2f61619287e9d2f92be311e3e23"
   }
  }
 },
 "nbformat": 4,
 "nbformat_minor": 2
}
