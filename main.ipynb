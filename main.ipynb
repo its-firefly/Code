{
 "cells": [
  {
   "cell_type": "code",
   "execution_count": 6,
   "metadata": {},
   "outputs": [],
   "source": [
    "import numpy as np\n",
    "import scipy as sp\n",
    "from scipy.integrate import odeint\n",
    "import matplotlib.pyplot as plt"
   ]
  },
  {
   "attachments": {},
   "cell_type": "markdown",
   "metadata": {},
   "source": [
    "Assumptions:\n",
    "\n",
    "1. Perfect thermal contact between the boundaries (i.e, the temperature at the mating surfaces are equal)\n",
    "2. The temperature gradient in the polypropylene glass is assumed to be constant due to negligible thickness, i.e lumped capacitance analysis can be used in this case\n",
    "3. "
   ]
  },
  {
   "cell_type": "code",
   "execution_count": 3,
   "metadata": {},
   "outputs": [],
   "source": [
    "def volume(r1,r2):\n",
    "    return abs((4/3)*np.pi*(pow(r2/2,3) - pow(r1/2,3)))\n",
    "\n",
    "def surfArea(r):\n",
    "    return 4*np.pi*pow(r,2)\n",
    "\n",
    "def diffusivity(k,rho,cp):\n",
    "    return k/(rho*cp)"
   ]
  },
  {
   "cell_type": "code",
   "execution_count": 2,
   "metadata": {},
   "outputs": [],
   "source": [
    "# Given parameters (_t thickness m) (_k conductivity W/mK) (_c sp. heat capacity at const pressure KJ/kg) (_lh latent heat KJ/kg) (_rho density kg/m^3)\n",
    "\n",
    "# Outer Insulation\n",
    "minWool_t = 50e-3\n",
    "minWool_k = 34e-3\n",
    "minWool_rho = 160\n",
    "minWool_cp = 1030\n",
    "\n",
    "# PolyPropylene \n",
    "PP_t = 3.5e-3\n",
    "PP_k = 34e-3\n",
    "PP_rho = 905\n",
    "PP_c = 1920\n",
    "\n",
    "# Dry Ice\n",
    "co2_t = 60e-3\n",
    "co2_k = 16e-3\n",
    "co2_cp = 0.658\n",
    "co2_rho = 1.795\n",
    "\n",
    "# PCM\n",
    "PCM_cp_liq = 3.40\n",
    "PCM_cp_sol = 1.87\n",
    "PCM_k_liq = 0.53\n",
    "PCM_k_sol = 5.26\n",
    "PCM_lh = 327\n",
    "PCM_rho = 1043 "
   ]
  },
  {
   "cell_type": "code",
   "execution_count": 4,
   "metadata": {},
   "outputs": [],
   "source": [
    "minWool_Diff = diffusivity(minWool_k,minWool_rho,minWool_cp)\n",
    "co2_diff = diffusivity(co2_k,co2_rho,co2_cp)\n",
    "PP_diff = diffusivity(PP_k, PP_rho, PP_c)\n"
   ]
  },
  {
   "cell_type": "code",
   "execution_count": null,
   "metadata": {},
   "outputs": [],
   "source": []
  }
 ],
 "metadata": {
  "kernelspec": {
   "display_name": "numerical",
   "language": "python",
   "name": "python3"
  },
  "language_info": {
   "codemirror_mode": {
    "name": "ipython",
    "version": 3
   },
   "file_extension": ".py",
   "mimetype": "text/x-python",
   "name": "python",
   "nbconvert_exporter": "python",
   "pygments_lexer": "ipython3",
   "version": "3.10.8"
  },
  "orig_nbformat": 4
 },
 "nbformat": 4,
 "nbformat_minor": 2
}
