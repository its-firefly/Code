{
 "cells": [
  {
   "cell_type": "code",
   "execution_count": 1,
   "metadata": {},
   "outputs": [],
   "source": [
    "import math\n",
    "import numpy as np\n",
    "import scipy as sp\n",
    "from scipy.integrate import odeint"
   ]
  },
  {
   "attachments": {},
   "cell_type": "markdown",
   "metadata": {},
   "source": [
    "Assumptions:\n",
    "\n",
    "1. Perfect thermal contact between the boundaries (i.e, the temperature at the mating surfaces are equal)\n",
    "2. The temperature gradient in the polypropylene glass is assumed to be constant due to negligible thickness, i.e lumped capacitance analysis can be used in this case\n",
    "3. "
   ]
  },
  {
   "cell_type": "code",
   "execution_count": 12,
   "metadata": {},
   "outputs": [],
   "source": [
    "# Given parameters (_t thickness m) (_k conductivity W/mK) (_c sp. heat capacity KJ/kg) (_lh latent heat KJ/kg) (_rho density kg/m^3)\n",
    "\n",
    "# Outer Insulation\n",
    "minWool_t = 50e-3\n",
    "minWool_k = 34e-3\n",
    "\n",
    "# PolyPropylene \n",
    "Glass_t = 3.5e-3\n",
    "Glass_k = 34e-3\n",
    "\n",
    "# Dry Ice\n",
    "co2_t = 60e-3\n",
    "co2_k = 16e-3\n",
    "co2_c = 0.658\n",
    "co2_rho = 1.795\n",
    "\n",
    "# PCM\n",
    "PCM_c_liq = 3.40\n",
    "PCM_c_sol = 1.87\n",
    "PCM_k_liq = 0.53\n",
    "PCM_k_sol = 5.26\n",
    "PCM_lh = 327\n",
    "PCM_rho = 1043 "
   ]
  },
  {
   "cell_type": "code",
   "execution_count": 13,
   "metadata": {},
   "outputs": [],
   "source": [
    "def volume(r1,r2):\n",
    "    return abs((4/3)*np.pi*(pow(r2/2,3) - pow(r1/2,3)))\n",
    "\n",
    "def surfArea(r):\n",
    "    return 4*np.pi*pow(r,2)"
   ]
  }
 ],
 "metadata": {
  "kernelspec": {
   "display_name": "numerical",
   "language": "python",
   "name": "python3"
  },
  "language_info": {
   "codemirror_mode": {
    "name": "ipython",
    "version": 3
   },
   "file_extension": ".py",
   "mimetype": "text/x-python",
   "name": "python",
   "nbconvert_exporter": "python",
   "pygments_lexer": "ipython3",
   "version": "3.10.8"
  },
  "orig_nbformat": 4
 },
 "nbformat": 4,
 "nbformat_minor": 2
}
